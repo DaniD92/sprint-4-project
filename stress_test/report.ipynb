{
 "cells": [
  {
   "cell_type": "markdown",
   "metadata": {},
   "source": [
    "### Computer caracateristics:\n",
    "    OS: Ubuntu 20.04.4 LTS\n",
    "    CPU: Intel Core I5-8250U 1.60ghz\n",
    "    Memory ram: 12 gb"
   ]
  },
  {
   "cell_type": "markdown",
   "metadata": {},
   "source": [
    "First round\n",
    "Number of users: 100\n",
    "Spawn Rate: 3\n",
    "Time: 5 minutes\n",
    "Weight: index(1) ; predict(3)\n",
    "Not Scaled \n",
    "Results: --Get: Requests: 157 Fails: 0 rps : 0.2\n",
    "        -- Post: Requests: 446\tFails: 74 rps : 0.3\n"
   ]
  },
  {
   "cell_type": "markdown",
   "metadata": {},
   "source": [
    "Second Round:\n",
    "\n",
    "Number of users: 150\n",
    "Spawn Rate: 6   \n",
    "Time: 5 minutes\n",
    "Weight: index(1) ; predict(3)\n",
    "Not Scaled \n",
    "Results: --Get: Requests: 193 Fails: 0 rps : 0.1\n",
    "         -- Post: Requests: 559 Fails: 72 rps : 0.2"
   ]
  },
  {
   "cell_type": "markdown",
   "metadata": {},
   "source": [
    "##Scaled"
   ]
  },
  {
   "cell_type": "markdown",
   "metadata": {},
   "source": [
    "First round\n",
    "Number of users: 100\n",
    "Spawn Rate: 3\n",
    "Time: 5 minutes\n",
    "Weight: index(1) ; predict(3)\n",
    "Not Scaled \n",
    "Results: --Get: Requests:  Fails: 0 rps :  \n",
    "         -- Post: Requests:  Fails:  rps : \n"
   ]
  },
  {
   "cell_type": "markdown",
   "metadata": {},
   "source": [
    "Second Round:\n",
    "\n",
    "Number of users: 150\n",
    "Spawn Rate: 6   \n",
    "Time: 7 minutes\n",
    "Weight: index(1) ; predict(3)\n",
    "Not Scaled \n",
    "Results: \n",
    "Get: Requests: 603 Fails: 0 rps : 1.0 -- Post: Requests: 1620 Fails: 73 rps : 2.7"
   ]
  },
  {
   "cell_type": "markdown",
   "metadata": {},
   "source": [
    "Conclustion:"
   ]
  }
 ],
 "metadata": {
  "language_info": {
   "name": "python"
  },
  "orig_nbformat": 4
 },
 "nbformat": 4,
 "nbformat_minor": 2
}
